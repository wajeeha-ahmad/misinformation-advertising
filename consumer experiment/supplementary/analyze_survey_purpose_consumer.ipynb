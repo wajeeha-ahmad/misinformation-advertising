{
 "cells": [
  {
   "cell_type": "code",
   "execution_count": 1,
   "id": "0cca72c7",
   "metadata": {},
   "outputs": [
    {
     "name": "stderr",
     "output_type": "stream",
     "text": [
      "\n",
      "KeyboardInterrupt\n",
      "\n"
     ]
    }
   ],
   "source": [
    "## Importing the relevant packages:\n",
    "\n",
    "import pandas as pd\n",
    "import numpy as np\n",
    "import matplotlib.pyplot as plt\n",
    "import math\n",
    "from statistics import mean\n",
    "import pandas as pd\n",
    "import numpy as np\n",
    "from nltk.tokenize import word_tokenize\n",
    "from nltk import pos_tag\n",
    "from nltk.corpus import stopwords\n",
    "from nltk.stem import WordNetLemmatizer\n",
    "from sklearn.preprocessing import LabelEncoder\n",
    "from collections import defaultdict\n",
    "from nltk.corpus import wordnet as wn\n",
    "from sklearn.feature_extraction.text import TfidfVectorizer\n",
    "from sklearn import model_selection, naive_bayes, svm\n",
    "from sklearn.metrics import accuracy_score\n",
    "import nltk"
   ]
  },
  {
   "cell_type": "code",
   "execution_count": null,
   "id": "e9491118",
   "metadata": {},
   "outputs": [],
   "source": [
    "import nltk\n",
    "nltk.download('averaged_perceptron_tagger')"
   ]
  },
  {
   "cell_type": "code",
   "execution_count": null,
   "id": "73001b58",
   "metadata": {},
   "outputs": [],
   "source": [
    "data_df = pd.read_csv(\"consumer_survey_data.csv\")\n",
    "print(len(data_df))\n",
    "data_df.head()"
   ]
  },
  {
   "cell_type": "code",
   "execution_count": null,
   "id": "dd61f989",
   "metadata": {},
   "outputs": [],
   "source": [
    "df = data_df[['group', 'survey_purpose']]\n",
    "print(len(df))\n",
    "\n",
    "df = df[(df['group'] == \"T1\") | ((df['group'] == \"control\"))]\n",
    "df['group'].value_counts()"
   ]
  },
  {
   "cell_type": "code",
   "execution_count": null,
   "id": "620f7271",
   "metadata": {},
   "outputs": [],
   "source": [
    "def get_label(col):\n",
    "    if ((col == \"T1\") | (col == \"T2\") | (col == \"T3\") | (col == \"T4\")):\n",
    "        return 1\n",
    "    else:\n",
    "        return 0\n",
    "    \n",
    "df['label'] = df['group'].apply(get_label)\n",
    "df['label'].value_counts()"
   ]
  },
  {
   "cell_type": "code",
   "execution_count": null,
   "id": "cf78fdc4",
   "metadata": {},
   "outputs": [],
   "source": [
    "df.head()"
   ]
  },
  {
   "cell_type": "code",
   "execution_count": null,
   "id": "2a88c63c",
   "metadata": {},
   "outputs": [],
   "source": [
    "df['text'] = df['survey_purpose']\n",
    "df['text'].dropna(inplace = True)\n",
    "df['text'] = df['text'].astype(str)\n",
    "df['text'] = [entry.lower() for entry in df['text']]\n",
    "df['text']= [word_tokenize(entry) for entry in df['text']]\n",
    "\n",
    "print(len(df))\n",
    "df = df.reset_index()\n",
    "df.head()"
   ]
  },
  {
   "cell_type": "code",
   "execution_count": null,
   "id": "ce7c37c7",
   "metadata": {},
   "outputs": [],
   "source": [
    "tag_map = defaultdict(lambda : wn.NOUN)\n",
    "tag_map['J'] = wn.ADJ\n",
    "tag_map['V'] = wn.VERB\n",
    "tag_map['R'] = wn.ADV\n",
    "\n",
    "for index, entry in enumerate(df['text']):\n",
    "    Final_words = []\n",
    "    word_Lemmatized = WordNetLemmatizer()    \n",
    "    for word, tag in pos_tag(entry):\n",
    "        if word not in stopwords.words('english') and word.isalpha():\n",
    "            word_Final = word_Lemmatized.lemmatize(word, tag_map[tag[0]])\n",
    "            Final_words.append(word_Final)\n",
    "    df.loc[index, 'text_final'] = str(Final_words)\n",
    "    \n",
    "print(len(df))\n",
    "df['text_final'] = df['text_final'].astype(str)\n",
    "df.head()"
   ]
  },
  {
   "cell_type": "code",
   "execution_count": null,
   "id": "937e7cd7",
   "metadata": {},
   "outputs": [],
   "source": [
    "Train_X, Test_X, Train_Y, Test_Y = model_selection.train_test_split(df['text_final'], df['label'], test_size = 0.25)\n",
    "\n",
    "Encoder = LabelEncoder()\n",
    "Train_Y = Encoder.fit_transform(Train_Y)\n",
    "Test_Y = Encoder.fit_transform(Test_Y)\n",
    "\n",
    "print(len(Train_X), len(Test_X), len(Train_X) + len(Test_X))\n",
    "print(len(Train_Y), len(Test_Y), len(Train_Y) + len(Test_Y))\n",
    "\n",
    "Tfidf_vect = TfidfVectorizer(max_features = 5000)\n",
    "Tfidf_vect.fit(df['text_final'])\n",
    "\n",
    "Train_X_Tfidf = Tfidf_vect.transform(Train_X)\n",
    "Test_X_Tfidf = Tfidf_vect.transform(Test_X)\n",
    "\n",
    "Test_X_Tfidf "
   ]
  },
  {
   "cell_type": "code",
   "execution_count": null,
   "id": "88861bcb",
   "metadata": {},
   "outputs": [],
   "source": [
    "# Classifier - Algorithm - SVM\n",
    "# Fit the training dataset on the classifier\n",
    "SVM = svm.SVC(C = 1.0, kernel = 'linear', degree = 3, gamma = 'auto')\n",
    "SVM.fit(Train_X_Tfidf, Train_Y)\n",
    "\n",
    "# Predict the labels on validation dataset\n",
    "predictions_SVM = SVM.predict(Test_X_Tfidf)\n",
    "\n",
    "# Use accuracy_score function to get the accuracy\n",
    "print(\"SVM Accuracy Score -> \", accuracy_score(predictions_SVM, Test_Y) * 100)\n",
    "\n",
    "print(len(predictions_SVM))\n",
    "#predictions_SVM"
   ]
  },
  {
   "cell_type": "code",
   "execution_count": null,
   "id": "ccb8c64e",
   "metadata": {},
   "outputs": [],
   "source": [
    "test_df = pd.DataFrame(Test_X)\n",
    "test_df = test_df.reset_index()\n",
    "test_df\n",
    "\n",
    "test_df['predicted_label'] = predictions_SVM\n",
    "test_df['actual_label'] = Test_Y\n",
    "print(test_df['actual_label'].sum(), test_df['predicted_label'].sum())\n",
    "test_df"
   ]
  },
  {
   "cell_type": "code",
   "execution_count": null,
   "id": "0b80b617",
   "metadata": {},
   "outputs": [],
   "source": [
    "def get_categories(df):\n",
    "    if ((df['actual_label'] == 1) & (df['predicted_label'] == 1)):\n",
    "        return \"True Treated & Predicted Treated\"\n",
    "    \n",
    "    elif ((df['actual_label'] == 1) & (df['predicted_label'] == 0)):\n",
    "        return \"True Treated & Predicted Control\"\n",
    "    \n",
    "    elif ((df['actual_label'] == 0) & (df['predicted_label'] == 1)):\n",
    "        return \"True Control & Predicted Treated\"\n",
    "    \n",
    "    elif ((df['actual_label'] == 0) & (df['predicted_label'] == 0)):\n",
    "        return \"True Control & Predicted Control\"\n",
    "    \n",
    "    else:\n",
    "        return 0\n",
    "    \n",
    "test_df['categories'] = test_df.apply(get_categories, axis = 1)\n",
    "test_df['categories'].value_counts()"
   ]
  },
  {
   "cell_type": "code",
   "execution_count": null,
   "id": "df81ba27",
   "metadata": {},
   "outputs": [],
   "source": []
  }
 ],
 "metadata": {
  "kernelspec": {
   "display_name": "Python 3 (ipykernel)",
   "language": "python",
   "name": "python3"
  },
  "language_info": {
   "codemirror_mode": {
    "name": "ipython",
    "version": 3
   },
   "file_extension": ".py",
   "mimetype": "text/x-python",
   "name": "python",
   "nbconvert_exporter": "python",
   "pygments_lexer": "ipython3",
   "version": "3.11.4"
  }
 },
 "nbformat": 4,
 "nbformat_minor": 5
}
