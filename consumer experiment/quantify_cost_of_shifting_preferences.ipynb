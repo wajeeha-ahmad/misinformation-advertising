{
 "cells": [
  {
   "cell_type": "code",
   "execution_count": 1,
   "id": "bfb6e58f",
   "metadata": {},
   "outputs": [],
   "source": [
    "## Importing the relevant packages:\n",
    "\n",
    "import pandas as pd\n",
    "import numpy as np\n",
    "import matplotlib.pyplot as plt\n",
    "import seaborn as sns\n",
    "import math\n",
    "from statistics import mean"
   ]
  },
  {
   "cell_type": "code",
   "execution_count": 2,
   "id": "6aae97a6",
   "metadata": {},
   "outputs": [
    {
     "name": "stdout",
     "output_type": "stream",
     "text": [
      "4039\n"
     ]
    },
    {
     "data": {
      "text/html": [
       "<div>\n",
       "<style scoped>\n",
       "    .dataframe tbody tr th:only-of-type {\n",
       "        vertical-align: middle;\n",
       "    }\n",
       "\n",
       "    .dataframe tbody tr th {\n",
       "        vertical-align: top;\n",
       "    }\n",
       "\n",
       "    .dataframe thead th {\n",
       "        text-align: right;\n",
       "    }\n",
       "</style>\n",
       "<table border=\"1\" class=\"dataframe\">\n",
       "  <thead>\n",
       "    <tr style=\"text-align: right;\">\n",
       "      <th></th>\n",
       "      <th>ResponseId</th>\n",
       "      <th>UserLanguage</th>\n",
       "      <th>consent</th>\n",
       "      <th>age</th>\n",
       "      <th>gender</th>\n",
       "      <th>residence</th>\n",
       "      <th>US_citizen</th>\n",
       "      <th>newspapers</th>\n",
       "      <th>news_sources</th>\n",
       "      <th>platforms_used</th>\n",
       "      <th>...</th>\n",
       "      <th>attitudes_trust_agree</th>\n",
       "      <th>attitudes_recommend_agree</th>\n",
       "      <th>attitudes_responsible_agree</th>\n",
       "      <th>weight_diff_category</th>\n",
       "      <th>weight_diff_negative</th>\n",
       "      <th>switched_categories</th>\n",
       "      <th>switch_misinfo_mag</th>\n",
       "      <th>outcome_1_topic</th>\n",
       "      <th>outcome_2_topic</th>\n",
       "      <th>weights_difference</th>\n",
       "    </tr>\n",
       "  </thead>\n",
       "  <tbody>\n",
       "    <tr>\n",
       "      <th>0</th>\n",
       "      <td>R_3FJULEzqqhsZCET</td>\n",
       "      <td>EN</td>\n",
       "      <td>4</td>\n",
       "      <td>2</td>\n",
       "      <td>2</td>\n",
       "      <td>3</td>\n",
       "      <td>1</td>\n",
       "      <td>9,11,27,17,18,26,36</td>\n",
       "      <td>3</td>\n",
       "      <td>(1, 2, 3)</td>\n",
       "      <td>...</td>\n",
       "      <td>1</td>\n",
       "      <td>1</td>\n",
       "      <td>0</td>\n",
       "      <td>same weight</td>\n",
       "      <td>0</td>\n",
       "      <td>0</td>\n",
       "      <td>0</td>\n",
       "      <td>Product features</td>\n",
       "      <td>Best option</td>\n",
       "      <td>10</td>\n",
       "    </tr>\n",
       "    <tr>\n",
       "      <th>1</th>\n",
       "      <td>R_1jMWAyzHxYiHuR6</td>\n",
       "      <td>EN</td>\n",
       "      <td>4</td>\n",
       "      <td>3</td>\n",
       "      <td>2</td>\n",
       "      <td>3</td>\n",
       "      <td>1</td>\n",
       "      <td>33,4,26</td>\n",
       "      <td>3</td>\n",
       "      <td>(1, 2, 3, 4)</td>\n",
       "      <td>...</td>\n",
       "      <td>1</td>\n",
       "      <td>1</td>\n",
       "      <td>1</td>\n",
       "      <td>same weight</td>\n",
       "      <td>0</td>\n",
       "      <td>0</td>\n",
       "      <td>0</td>\n",
       "      <td>Product features</td>\n",
       "      <td>Misinformation concerns</td>\n",
       "      <td>20</td>\n",
       "    </tr>\n",
       "    <tr>\n",
       "      <th>2</th>\n",
       "      <td>R_12KhjtDoZRVn3Eo</td>\n",
       "      <td>EN</td>\n",
       "      <td>4</td>\n",
       "      <td>3</td>\n",
       "      <td>2</td>\n",
       "      <td>3</td>\n",
       "      <td>1</td>\n",
       "      <td>2,4,11,14,16,17,18,26</td>\n",
       "      <td>2</td>\n",
       "      <td>(1, 2, 3, 4, 5)</td>\n",
       "      <td>...</td>\n",
       "      <td>1</td>\n",
       "      <td>1</td>\n",
       "      <td>1</td>\n",
       "      <td>same weight</td>\n",
       "      <td>0</td>\n",
       "      <td>0</td>\n",
       "      <td>0</td>\n",
       "      <td>Use</td>\n",
       "      <td>Company responsibility</td>\n",
       "      <td>0</td>\n",
       "    </tr>\n",
       "    <tr>\n",
       "      <th>3</th>\n",
       "      <td>R_2c7cUHqNoppI0l1</td>\n",
       "      <td>EN</td>\n",
       "      <td>4</td>\n",
       "      <td>4</td>\n",
       "      <td>2</td>\n",
       "      <td>1</td>\n",
       "      <td>1</td>\n",
       "      <td>36</td>\n",
       "      <td>2</td>\n",
       "      <td>(1, 2, 3)</td>\n",
       "      <td>...</td>\n",
       "      <td>1</td>\n",
       "      <td>1</td>\n",
       "      <td>1</td>\n",
       "      <td>same weight</td>\n",
       "      <td>0</td>\n",
       "      <td>0</td>\n",
       "      <td>0</td>\n",
       "      <td>Frequency of use</td>\n",
       "      <td>Company responsibility</td>\n",
       "      <td>40</td>\n",
       "    </tr>\n",
       "    <tr>\n",
       "      <th>4</th>\n",
       "      <td>R_1FLeC52n7IIbiLD</td>\n",
       "      <td>EN</td>\n",
       "      <td>4</td>\n",
       "      <td>6</td>\n",
       "      <td>1</td>\n",
       "      <td>2</td>\n",
       "      <td>1</td>\n",
       "      <td>9</td>\n",
       "      <td>3</td>\n",
       "      <td>1</td>\n",
       "      <td>...</td>\n",
       "      <td>1</td>\n",
       "      <td>1</td>\n",
       "      <td>0</td>\n",
       "      <td>same weight</td>\n",
       "      <td>0</td>\n",
       "      <td>0</td>\n",
       "      <td>0</td>\n",
       "      <td>Product features</td>\n",
       "      <td>No interest</td>\n",
       "      <td>0</td>\n",
       "    </tr>\n",
       "  </tbody>\n",
       "</table>\n",
       "<p>5 rows × 195 columns</p>\n",
       "</div>"
      ],
      "text/plain": [
       "          ResponseId UserLanguage  consent  age  gender  residence  \\\n",
       "0  R_3FJULEzqqhsZCET           EN        4    2       2          3   \n",
       "1  R_1jMWAyzHxYiHuR6           EN        4    3       2          3   \n",
       "2  R_12KhjtDoZRVn3Eo           EN        4    3       2          3   \n",
       "3  R_2c7cUHqNoppI0l1           EN        4    4       2          1   \n",
       "4  R_1FLeC52n7IIbiLD           EN        4    6       1          2   \n",
       "\n",
       "   US_citizen             newspapers  news_sources   platforms_used  ...  \\\n",
       "0           1    9,11,27,17,18,26,36             3        (1, 2, 3)  ...   \n",
       "1           1                33,4,26             3     (1, 2, 3, 4)  ...   \n",
       "2           1  2,4,11,14,16,17,18,26             2  (1, 2, 3, 4, 5)  ...   \n",
       "3           1                     36             2        (1, 2, 3)  ...   \n",
       "4           1                      9             3                1  ...   \n",
       "\n",
       "  attitudes_trust_agree  attitudes_recommend_agree  \\\n",
       "0                     1                          1   \n",
       "1                     1                          1   \n",
       "2                     1                          1   \n",
       "3                     1                          1   \n",
       "4                     1                          1   \n",
       "\n",
       "   attitudes_responsible_agree  weight_diff_category  weight_diff_negative  \\\n",
       "0                            0           same weight                     0   \n",
       "1                            1           same weight                     0   \n",
       "2                            1           same weight                     0   \n",
       "3                            1           same weight                     0   \n",
       "4                            0           same weight                     0   \n",
       "\n",
       "   switched_categories  switch_misinfo_mag   outcome_1_topic  \\\n",
       "0                    0                   0  Product features   \n",
       "1                    0                   0  Product features   \n",
       "2                    0                   0               Use   \n",
       "3                    0                   0  Frequency of use   \n",
       "4                    0                   0  Product features   \n",
       "\n",
       "           outcome_2_topic  weights_difference  \n",
       "0              Best option                  10  \n",
       "1  Misinformation concerns                  20  \n",
       "2   Company responsibility                   0  \n",
       "3   Company responsibility                  40  \n",
       "4              No interest                   0  \n",
       "\n",
       "[5 rows x 195 columns]"
      ]
     },
     "execution_count": 2,
     "metadata": {},
     "output_type": "execute_result"
    }
   ],
   "source": [
    "data_df = pd.read_csv(\"consumer_survey_data.csv\")\n",
    "print(len(data_df))\n",
    "data_df.head()"
   ]
  },
  {
   "cell_type": "markdown",
   "id": "2cc067b3",
   "metadata": {},
   "source": [
    "#### Quantifying the cost of shifting preferences for the treated group:"
   ]
  },
  {
   "cell_type": "code",
   "execution_count": 11,
   "id": "3ac28c5b",
   "metadata": {},
   "outputs": [
    {
     "name": "stdout",
     "output_type": "stream",
     "text": [
      "4039\n",
      "2431\n",
      "1608\n"
     ]
    }
   ],
   "source": [
    "print(len(data_df))\n",
    "\n",
    "treated_df = data_df[(data_df['group'] == \"T1\") | (data_df['group'] == \"T3\") | (data_df['group'] == \"T4\")]\n",
    "print(len(treated_df))\n",
    "\n",
    "control_df = data_df[(data_df['group'] == \"control\") | (data_df['group'] == \"T2\")]\n",
    "print(len(control_df))"
   ]
  },
  {
   "cell_type": "code",
   "execution_count": 12,
   "id": "e06967fd",
   "metadata": {},
   "outputs": [
    {
     "name": "stdout",
     "output_type": "stream",
     "text": [
      "4039\n",
      "430\n",
      "345\n",
      "85\n"
     ]
    }
   ],
   "source": [
    "print(len(data_df))\n",
    "\n",
    "switched_df = data_df[data_df['switch_in_preference'] == 1]\n",
    "print(len(switched_df))\n",
    "\n",
    "treated_switched_df = switched_df[(switched_df['group'] == \"T1\") | \n",
    "                                  (switched_df['group'] == \"T3\") | (switched_df['group'] == \"T4\")]\n",
    "print(len(treated_switched_df))\n",
    "\n",
    "control_switched_df = switched_df[(switched_df['group'] == \"control\") | (switched_df['group'] == \"T2\")]\n",
    "print(len(control_switched_df))"
   ]
  },
  {
   "cell_type": "code",
   "execution_count": 18,
   "id": "3eade7a4",
   "metadata": {},
   "outputs": [
    {
     "name": "stdout",
     "output_type": "stream",
     "text": [
      "345\n"
     ]
    }
   ],
   "source": [
    "data_df = treated_switched_df\n",
    "print(len(data_df))"
   ]
  },
  {
   "cell_type": "code",
   "execution_count": 19,
   "id": "f7649906",
   "metadata": {},
   "outputs": [
    {
     "data": {
      "text/plain": [
       "(39.11304347826087, 35.0)"
      ]
     },
     "execution_count": 19,
     "metadata": {},
     "output_type": "execute_result"
    }
   ],
   "source": [
    "data_df[\"weight_of_top_choice\"].mean(), data_df[\"weight_of_top_choice\"].median()"
   ]
  },
  {
   "cell_type": "code",
   "execution_count": 20,
   "id": "43068ec9",
   "metadata": {},
   "outputs": [
    {
     "data": {
      "text/plain": [
       "(23.715942028985506, 20.0)"
      ]
     },
     "execution_count": 20,
     "metadata": {},
     "output_type": "execute_result"
    }
   ],
   "source": [
    "data_df[\"weight_of_outcome\"].mean(), data_df[\"weight_of_outcome\"].median()"
   ]
  },
  {
   "cell_type": "code",
   "execution_count": 21,
   "id": "bf028953",
   "metadata": {},
   "outputs": [
    {
     "name": "stdout",
     "output_type": "stream",
     "text": [
      "28\n"
     ]
    },
    {
     "data": {
      "text/html": [
       "<div>\n",
       "<style scoped>\n",
       "    .dataframe tbody tr th:only-of-type {\n",
       "        vertical-align: middle;\n",
       "    }\n",
       "\n",
       "    .dataframe tbody tr th {\n",
       "        vertical-align: top;\n",
       "    }\n",
       "\n",
       "    .dataframe thead th {\n",
       "        text-align: right;\n",
       "    }\n",
       "</style>\n",
       "<table border=\"1\" class=\"dataframe\">\n",
       "  <thead>\n",
       "    <tr style=\"text-align: right;\">\n",
       "      <th></th>\n",
       "      <th>weight_of_top_choice</th>\n",
       "      <th>number_of_values</th>\n",
       "    </tr>\n",
       "  </thead>\n",
       "  <tbody>\n",
       "    <tr>\n",
       "      <th>0</th>\n",
       "      <td>50</td>\n",
       "      <td>64</td>\n",
       "    </tr>\n",
       "    <tr>\n",
       "      <th>1</th>\n",
       "      <td>30</td>\n",
       "      <td>49</td>\n",
       "    </tr>\n",
       "    <tr>\n",
       "      <th>2</th>\n",
       "      <td>40</td>\n",
       "      <td>45</td>\n",
       "    </tr>\n",
       "    <tr>\n",
       "      <th>3</th>\n",
       "      <td>20</td>\n",
       "      <td>42</td>\n",
       "    </tr>\n",
       "    <tr>\n",
       "      <th>4</th>\n",
       "      <td>25</td>\n",
       "      <td>36</td>\n",
       "    </tr>\n",
       "  </tbody>\n",
       "</table>\n",
       "</div>"
      ],
      "text/plain": [
       "   weight_of_top_choice  number_of_values\n",
       "0                    50                64\n",
       "1                    30                49\n",
       "2                    40                45\n",
       "3                    20                42\n",
       "4                    25                36"
      ]
     },
     "execution_count": 21,
     "metadata": {},
     "output_type": "execute_result"
    }
   ],
   "source": [
    "top_choice_weights_df = pd.DataFrame(data_df[\"weight_of_top_choice\"].value_counts())\n",
    "top_choice_weights_df = top_choice_weights_df.reset_index()\n",
    "top_choice_weights_df = top_choice_weights_df.rename(columns = {'index': 'weight_of_top_choice', \n",
    "                                                                'weight_of_top_choice': 'number_of_values'})\n",
    "print(len(top_choice_weights_df))\n",
    "top_choice_weights_df.head()"
   ]
  },
  {
   "cell_type": "code",
   "execution_count": 22,
   "id": "0fef9a64",
   "metadata": {},
   "outputs": [
    {
     "name": "stdout",
     "output_type": "stream",
     "text": [
      "24\n"
     ]
    },
    {
     "data": {
      "text/html": [
       "<div>\n",
       "<style scoped>\n",
       "    .dataframe tbody tr th:only-of-type {\n",
       "        vertical-align: middle;\n",
       "    }\n",
       "\n",
       "    .dataframe tbody tr th {\n",
       "        vertical-align: top;\n",
       "    }\n",
       "\n",
       "    .dataframe thead th {\n",
       "        text-align: right;\n",
       "    }\n",
       "</style>\n",
       "<table border=\"1\" class=\"dataframe\">\n",
       "  <thead>\n",
       "    <tr style=\"text-align: right;\">\n",
       "      <th></th>\n",
       "      <th>weight_of_outcome</th>\n",
       "      <th>number_of_values</th>\n",
       "    </tr>\n",
       "  </thead>\n",
       "  <tbody>\n",
       "    <tr>\n",
       "      <th>0</th>\n",
       "      <td>20</td>\n",
       "      <td>96</td>\n",
       "    </tr>\n",
       "    <tr>\n",
       "      <th>1</th>\n",
       "      <td>30</td>\n",
       "      <td>49</td>\n",
       "    </tr>\n",
       "    <tr>\n",
       "      <th>2</th>\n",
       "      <td>25</td>\n",
       "      <td>47</td>\n",
       "    </tr>\n",
       "    <tr>\n",
       "      <th>3</th>\n",
       "      <td>10</td>\n",
       "      <td>38</td>\n",
       "    </tr>\n",
       "    <tr>\n",
       "      <th>4</th>\n",
       "      <td>0</td>\n",
       "      <td>25</td>\n",
       "    </tr>\n",
       "  </tbody>\n",
       "</table>\n",
       "</div>"
      ],
      "text/plain": [
       "   weight_of_outcome  number_of_values\n",
       "0                 20                96\n",
       "1                 30                49\n",
       "2                 25                47\n",
       "3                 10                38\n",
       "4                  0                25"
      ]
     },
     "execution_count": 22,
     "metadata": {},
     "output_type": "execute_result"
    }
   ],
   "source": [
    "outcome_weights_df = pd.DataFrame(data_df[\"weight_of_outcome\"].value_counts())\n",
    "outcome_weights_df = outcome_weights_df.reset_index()\n",
    "outcome_weights_df = outcome_weights_df.rename(columns = {'index': 'weight_of_outcome', 'weight_of_outcome': 'number_of_values'})\n",
    "print(len(outcome_weights_df))\n",
    "outcome_weights_df.head()"
   ]
  },
  {
   "cell_type": "code",
   "execution_count": 25,
   "id": "ab745913",
   "metadata": {},
   "outputs": [
    {
     "data": {
      "image/png": "[encoded data removed]",
      "text/plain": [
       "<Figure size 640x480 with 1 Axes>"
      ]
     },
     "metadata": {},
     "output_type": "display_data"
    }
   ],
   "source": [
    "import matplotlib.pyplot as plt\n",
    "\n",
    "# Create a bar plot for the first dataset\n",
    "plt.bar(top_choice_weights_df['weight_of_top_choice'], top_choice_weights_df['number_of_values'], color='dimgray', \n",
    "        alpha=0.7, label='Initial Choice',  width = 3.5)\n",
    "\n",
    "# Create a bar plot for the second dataset, but with a small shift in x-coordinate to overlay them\n",
    "plt.bar(outcome_weights_df['weight_of_outcome'], outcome_weights_df['number_of_values'], color='deepskyblue', \n",
    "        alpha=0.7, label='Final Choice',  width = 2.0)   \n",
    "\n",
    "plt.title('Weight Distribution of Gift Card Choices')\n",
    "plt.xlabel('Weight Assigned by Participant Prior to Information Treatment')\n",
    "plt.ylabel('Frequency')\n",
    "\n",
    "# Set the y-axis limits to ensure it goes up to the desired value\n",
    "plt.ylim(0, 150)\n",
    "\n",
    "# Add a legend to differentiate the two datasets\n",
    "plt.legend()\n",
    "\n",
    "plt.show()"
   ]
  },
  {
   "cell_type": "code",
   "execution_count": null,
   "id": "d0d97b8f",
   "metadata": {},
   "outputs": [],
   "source": []
  }
 ],
 "metadata": {
  "kernelspec": {
   "display_name": "Python 3 (ipykernel)",
   "language": "python",
   "name": "python3"
  },
  "language_info": {
   "codemirror_mode": {
    "name": "ipython",
    "version": 3
   },
   "file_extension": ".py",
   "mimetype": "text/x-python",
   "name": "python",
   "nbconvert_exporter": "python",
   "pygments_lexer": "ipython3",
   "version": "3.11.4"
  }
 },
 "nbformat": 4,
 "nbformat_minor": 5
}
