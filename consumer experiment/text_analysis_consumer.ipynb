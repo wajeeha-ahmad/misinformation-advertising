{
 "cells": [
  {
   "cell_type": "code",
   "execution_count": null,
   "id": "cdc3875f",
   "metadata": {},
   "outputs": [],
   "source": [
    "## Importing the relevant packages:\n",
    "import pandas as pd\n",
    "import numpy as np\n",
    "import matplotlib.pyplot as plt\n",
    "import seaborn as sns\n",
    "from sklearn.linear_model import LinearRegression\n",
    "import math\n",
    "from statistics import mean\n",
    "import random\n",
    "from gensim.parsing.preprocessing import remove_stopwords\n",
    "import re"
   ]
  },
  {
   "cell_type": "code",
   "execution_count": null,
   "id": "d5a8d0ac",
   "metadata": {},
   "outputs": [],
   "source": [
    "from top2vec import Top2Vec"
   ]
  },
  {
   "cell_type": "code",
   "execution_count": null,
   "id": "97b3c1d5",
   "metadata": {},
   "outputs": [],
   "source": [
    "df = pd.read_csv(\"consumer_survey_data.csv\")\n",
    "print(len(df))\n",
    "\n",
    "df.head()"
   ]
  },
  {
   "cell_type": "code",
   "execution_count": null,
   "id": "a1d368d9",
   "metadata": {},
   "outputs": [],
   "source": [
    "df['outcome_1_why']"
   ]
  },
  {
   "cell_type": "code",
   "execution_count": null,
   "id": "fe109270",
   "metadata": {},
   "outputs": [],
   "source": [
    "def get_preprocessed(col_text):\n",
    "    filtered_sentence = remove_stopwords(col_text)\n",
    "    words = filtered_sentence.split()\n",
    "    resultwords = []\n",
    "    nouns = ['Subway', 'subway', \"subway's\", \"subways\", \"Subway's\",\n",
    "             'King', 'Burger', 'burgerking', 'BurgerKing', 'burger', 'king', 'burgerking', \"king's\", \"KING\", 'BK',\n",
    "             'Grubhub', 'grubhub', 'GrubHub', \n",
    "             'doordash', 'doorDash', 'DoorDash', 'door', 'dash', 'Doordash', \n",
    "             'uber', 'Uber', 'lyft', 'Lyft', \n",
    "             'giftcard', 'card', 'gift',\n",
    "             'food', 'restaurant', 'restaurants', 'eat', 'fastfood', 'fast', \n",
    "             'eating', 'meal', 'meals', \"FOOD\", \"foods\",\n",
    "             'whopper', 'whoppers', 'Whopper', 'fries', 'coffee', 'breakfast', 'onion', 'ring', 'steak', \"whooper\",\n",
    "             'hamburger', 'hamburgers', 'cheeseburger', 'cheeseburgers', 'burgers',\n",
    "             'burgers', 'subs', 'sandwich', 'sandwiches', 'sub', \"SUB\", \"subwa\",\n",
    "             'ride', 'delivery', 'car', 'transportation', \"company\", \"companies\", \"brands\", \"brand\", \"services\"]\n",
    "    for word in words:\n",
    "        processed_word = word.lower()\n",
    "        processed_word = processed_word.strip()\n",
    "        processed_word = re.sub('(?<=[a-z])\\'(?=[a-z])', '', processed_word)\n",
    "        processed_word = re.sub(r'[^\\w\\s]','', word)\n",
    "        #print(word)\n",
    "        if (processed_word not in nouns):\n",
    "            resultwords.append(word)\n",
    "    result = ' '.join(resultwords)\n",
    "    return result\n",
    "\n",
    "df['clean_text'] = df['outcome_1_why'].apply(get_preprocessed)"
   ]
  },
  {
   "cell_type": "code",
   "execution_count": null,
   "id": "2fc989fa",
   "metadata": {},
   "outputs": [],
   "source": [
    "random.seed(12345)\n",
    "new_model = Top2Vec(df['clean_text'].values, embedding_model = 'universal-sentence-encoder')\n",
    "print(new_model.get_num_topics())\n",
    "new_model.topic_words"
   ]
  },
  {
   "cell_type": "code",
   "execution_count": null,
   "id": "eca8fe68",
   "metadata": {},
   "outputs": [],
   "source": [
    "#### Reducing the number of topics:\n",
    "\n",
    "# The topic mapping that the function returns is a nested list that explains which \n",
    "#topics have been merged together to form the 20 larger topics.\n",
    "topic_mapping = new_model.hierarchical_topic_reduction(num_topics = 10)\n",
    "\n",
    "# Looking at the original topics within topic 1:\n",
    "print(topic_mapping[1])\n",
    "\n",
    "# Accessing the new topic keywords with the topic_words_reduced attribute:\n",
    "new_model.topic_words_reduced[1]\n",
    "\n",
    "new_model.get_topic_hierarchy()"
   ]
  },
  {
   "cell_type": "code",
   "execution_count": null,
   "id": "26a27dd4",
   "metadata": {},
   "outputs": [],
   "source": [
    "# Searching for documents by topic to investigate topic areas:\n",
    "\n",
    "new_model.search_documents_by_topic(0, num_docs = 20)"
   ]
  },
  {
   "cell_type": "code",
   "execution_count": null,
   "id": "58a97071",
   "metadata": {},
   "outputs": [],
   "source": [
    "def get_topic_number(index):\n",
    "    for num_topic in range(new_model.get_num_topics()):\n",
    "        index_list = new_model.search_documents_by_topic(num_topic, num_docs = new_model.get_topic_sizes()[0][num_topic])[2]\n",
    "        if (index in index_list):\n",
    "            return num_topic\n",
    "\n",
    "df['topic_number'] = df['index'].apply(get_topic_number)"
   ]
  },
  {
   "cell_type": "code",
   "execution_count": null,
   "id": "e34bcf59",
   "metadata": {},
   "outputs": [],
   "source": [
    "print(new_model.get_topic_hierarchy())\n",
    "\n",
    "def get_overall_topic_number(topic_number):\n",
    "    if (topic_number == 0):\n",
    "        return 1\n",
    "    elif (topic_number in [7, 22, 15]):\n",
    "        return 2\n",
    "    elif (topic_number in [20, 54, 16]):\n",
    "        return 3\n",
    "    elif (topic_number in [18, 24, 8]):\n",
    "        return 4\n",
    "    elif (topic_number in [5, 4, 25, 12]):\n",
    "        return 5\n",
    "    elif (topic_number in [52, 26, 23, 55, 35, 46, 14]):\n",
    "        return 6\n",
    "    elif (topic_number in [36, 56, 51, 34, 17, 44, 32, 43, 49, 57, 6]):\n",
    "        return 7\n",
    "    elif (topic_number in [27, 39, 19, 2]):\n",
    "        return 8\n",
    "    elif (topic_number in [33, 42, 11, 3, 13, 53, 1]):\n",
    "        return 9\n",
    "    elif (topic_number in [10, 58, 41, 29, 21, 40, 47, 38, 48, 30, 31, 28, 9, 37, 45, 50]):\n",
    "        return 10\n",
    "\n",
    "df['topic_number_reduced'] = df['topic_number'].apply(get_overall_topic_number)"
   ]
  },
  {
   "cell_type": "code",
   "execution_count": null,
   "id": "fb9aea05",
   "metadata": {},
   "outputs": [],
   "source": [
    "def get_overall_topic_name(topic_number):\n",
    "    if (topic_number == 0):\n",
    "        return \"Misinformation\"\n",
    "    elif (topic_number in [7, 22, 15]):\n",
    "        return \"Local availability\"\n",
    "    elif (topic_number in [20, 54, 16]):\n",
    "        return \"Food\"\n",
    "    elif (topic_number in [18, 24, 8]):\n",
    "        return \"Frequent use\"\n",
    "    elif (topic_number in [5, 4, 25, 12]):\n",
    "        return \"Love\"\n",
    "    elif (topic_number in [52, 26, 23, 55, 35, 46, 14]):\n",
    "        return \"Likely to use\"\n",
    "    elif (topic_number in [36, 56, 51, 34, 17, 44, 32, 43, 49, 57, 6]):\n",
    "        return \"Preference\"\n",
    "    elif (topic_number in [27, 39, 19, 2]):\n",
    "        return \"Like\"\n",
    "    elif (topic_number in [33, 42, 11, 3, 13, 53, 1]):\n",
    "        return \"Use service\"\n",
    "    elif (topic_number in [10, 58, 41, 29, 21, 40, 47, 38, 48, 30, 31, 28, 9, 37, 45, 50]):\n",
    "        return \"Product features\"\n",
    "\n",
    "df['topic_name'] = df['topic_number'].apply(get_overall_topic_name)"
   ]
  },
  {
   "cell_type": "code",
   "execution_count": null,
   "id": "b06b8592",
   "metadata": {},
   "outputs": [],
   "source": [
    "df['topic_number_reduced'].value_counts()\n",
    "df['topic_name'].value_counts()"
   ]
  },
  {
   "cell_type": "code",
   "execution_count": null,
   "id": "e8655298",
   "metadata": {},
   "outputs": [],
   "source": [
    "#df.to_csv(\"text_outcome_1_analyzed.csv\")"
   ]
  },
  {
   "cell_type": "markdown",
   "id": "2fd851c2",
   "metadata": {},
   "source": [
    "## Adding topics to full data:"
   ]
  },
  {
   "cell_type": "code",
   "execution_count": null,
   "id": "53a22e78",
   "metadata": {},
   "outputs": [],
   "source": [
    "data_df = pd.read_csv(\"consumer_survey_data.csv\")\n",
    "print(len(data_df))"
   ]
  },
  {
   "cell_type": "code",
   "execution_count": null,
   "id": "a276ace7",
   "metadata": {},
   "outputs": [],
   "source": [
    "outcome_1_df = pd.read_csv(\"text_outcome_1_analyzed.csv\")\n",
    "print(len(outcome_1_df))\n",
    "\n",
    "outcome_1_dict = dict(zip(outcome_1_df['doc_id'], outcome_1_df['topic_name']))\n",
    "print(len(outcome_1_dict))\n",
    "\n",
    "data_df['outcome_1_topic'] = data_df['ResponseId'].map(outcome_1_dict)"
   ]
  },
  {
   "cell_type": "code",
   "execution_count": null,
   "id": "2746c39b",
   "metadata": {},
   "outputs": [],
   "source": [
    "outcome_2_df = pd.read_csv(\"text_outcome_2_analyzed.csv\")\n",
    "print(len(outcome_2_df))\n",
    "\n",
    "outcome_2_dict = dict(zip(outcome_2_df['doc_id'], outcome_2_df['topic_name']))\n",
    "print(len(outcome_2_dict))\n",
    "\n",
    "data_df['outcome_2_topic'] = data_df['ResponseId'].map(outcome_2_dict)"
   ]
  },
  {
   "cell_type": "code",
   "execution_count": null,
   "id": "1b3a9b3d",
   "metadata": {},
   "outputs": [],
   "source": [
    "#data_df.to_csv(\"consumer_survey_data.csv\")"
   ]
  }
 ],
 "metadata": {
  "kernelspec": {
   "display_name": "Python 3 (ipykernel)",
   "language": "python",
   "name": "python3"
  },
  "language_info": {
   "codemirror_mode": {
    "name": "ipython",
    "version": 3
   },
   "file_extension": ".py",
   "mimetype": "text/x-python",
   "name": "python",
   "nbconvert_exporter": "python",
   "pygments_lexer": "ipython3",
   "version": "3.11.4"
  }
 },
 "nbformat": 4,
 "nbformat_minor": 5
}
